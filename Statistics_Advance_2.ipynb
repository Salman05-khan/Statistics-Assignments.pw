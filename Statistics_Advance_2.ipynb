{
  "nbformat": 4,
  "nbformat_minor": 0,
  "metadata": {
    "colab": {
      "provenance": []
    },
    "kernelspec": {
      "name": "python3",
      "display_name": "Python 3"
    },
    "language_info": {
      "name": "python"
    }
  },
  "cells": [
    {
      "cell_type": "markdown",
      "source": [
        "**THEORY QUESTION**\n",
        "\n",
        "\n",
        "\n",
        "**Question 1: What is hypothesis testing in statistics?**\n",
        "\n",
        "\n",
        "\n",
        "**Answer**\n",
        "\n",
        "\n",
        "Hypothesis testing in statistics is a method to make decisions or draw conclusions about a population based on sample data.\n",
        "\n",
        " In simple words: It helps us check if a claim (assumption) about a population is true or not using data.\n",
        "\n",
        "Steps of Hypothesis Testing:\n",
        "\n",
        "State hypotheses\n",
        "\n",
        "Null hypothesis (H₀): Assumes no effect or no difference. (e.g., \"The average height of students = 165 cm\")\n",
        "\n",
        "Alternative hypothesis (H₁): Assumes there is an effect or a difference. (e.g., \"The average height ≠ 165 cm\")\n",
        "\n",
        "Choose significance level (α):\n",
        "\n",
        "Commonly 0.05 (5% chance of error).\n",
        "\n",
        "Collect data & calculate test statistic:\n",
        "\n",
        "e.g., Z-test, t-test, chi-square, depending on data type.\n",
        "\n",
        "Find p-value or critical value:\n",
        "\n",
        "p-value: Probability of getting the observed result if H₀ is true.\n",
        "\n",
        "Make decision:\n",
        "\n",
        "If p ≤ α, reject H₀ → evidence supports H₁.\n",
        "\n",
        "If p > α, fail to reject H₀ → not enough evidence against H₀.\n",
        "\n",
        "Example:\n",
        "\n",
        "Suppose a company claims the average battery life of its phone is 10 hours.\n",
        "You test 30 phones and find the average is 9.5 hours.\n",
        "\n",
        "H₀: Average = 10 hours\n",
        "\n",
        "H₁: Average ≠ 10 hours\n",
        "\n",
        "Run a test → if p-value < 0.05 → Reject H₀ (claim is false)."
      ],
      "metadata": {
        "id": "twaMMxxGyQsr"
      }
    },
    {
      "cell_type": "markdown",
      "source": [
        "**Question 2: What is the null hypothesis, and how does it differ from the alternative hypothesis?**\n",
        "\n",
        "\n",
        "**Answer**\n",
        "\n",
        "\n",
        "**Null Hypothesis (H₀)**\n",
        "\n",
        "The null hypothesis is the default belief. It says there is no effect, no difference, or no change.\n",
        "Example: “The average exam score of students is 70.”\n",
        "\n",
        "**Alternative Hypothesis (H₁)**\n",
        "\n",
        "The alternative hypothesis is the opposite of H₀. It says there is an effect, a difference, or a change.\n",
        "Example: “The average exam score of students is not 70.”\n",
        "\n",
        "**Main Difference**\n",
        "\n",
        "H₀ (null): Assumes nothing unusual is happening.\n",
        "\n",
        "H₁ (alternative): Suggests something new or different is happening.\n",
        "\n",
        "**Simple Analogy**\n",
        "\n",
        "Imagine a court case:\n",
        "\n",
        "H₀: The person is innocent.\n",
        "\n",
        "H₁: The person is guilty.\n",
        "We always start by assuming innocence (H₀) and only reject it if evidence strongly supports guilt (H₁)."
      ],
      "metadata": {
        "id": "SVCDyS5WzBoX"
      }
    },
    {
      "cell_type": "markdown",
      "source": [
        "**Question 3: Explain the significance level in hypothesis testing and its role in deciding the outcome of a test.**\n",
        "\n",
        "\n",
        "**Answer**\n",
        "\n",
        "\n",
        "**Significance Level (α)**\n",
        "\n",
        "The significance level (denoted by α) is the threshold for deciding whether to reject the null hypothesis (H₀).\n",
        "\n",
        "It represents the probability of making a Type I error → rejecting H₀ when it is actually true.\n",
        "\n",
        "Common values: 0.05 (5%), 0.01 (1%), 0.10 (10%).\n",
        "\n",
        "**Role in Hypothesis Testing**\n",
        "\n",
        "Before testing, we set α (say 0.05).\n",
        "\n",
        "After calculations, we get a p-value from the data.\n",
        "\n",
        "**Decision:**\n",
        "\n",
        "If p ≤ α, reject H₀ → evidence supports H₁.\n",
        "\n",
        "If p > α, fail to reject H₀ → not enough evidence against H₀.\n",
        "\n",
        "**Example**\n",
        "\n",
        "Suppose a company claims its bulbs last 1000 hours. You test samples.\n",
        "\n",
        "Null hypothesis: Average life = 1000 hours\n",
        "\n",
        "Alternative: Average life ≠ 1000 hours\n",
        "\n",
        "You choose α = 0.05 (5% risk of being wrong).\n",
        "\n",
        "If the p-value = 0.03 → since 0.03 < 0.05, reject H₀ → the claim is likely false."
      ],
      "metadata": {
        "id": "b4p1Zp910HfW"
      }
    },
    {
      "cell_type": "markdown",
      "source": [
        "**Question 4: What are Type I and Type II errors? Give examples of each.**\n",
        "\n",
        "\n",
        "**Answer**\n",
        "\n",
        "\n",
        "**Type I Error (False Positive)**\n",
        "\n",
        "Happens when we reject the null hypothesis (H₀) even though it is actually true.\n",
        "\n",
        "In simple words: We think there is an effect or difference, but in reality, there isn’t.\n",
        "\n",
        "Probability of making a Type I error = α (significance level).\n",
        "\n",
        "**Example:**\n",
        "A medical test says a healthy person has a disease.\n",
        "\n",
        "H₀: Person is healthy.\n",
        "\n",
        "H₁: Person is sick.\n",
        "Rejecting H₀ wrongly → Healthy person is labeled sick.\n",
        "\n",
        "**Type II Error (False Negative)**\n",
        "\n",
        "Happens when we fail to reject the null hypothesis (H₀) even though it is false.\n",
        "\n",
        "In simple words: We fail to detect a real effect or difference.\n",
        "\n",
        "Probability of making a Type II error = β.\n",
        "\n",
        "**Example:**\n",
        "A medical test fails to detect a disease in a sick person.\n",
        "\n",
        "H₀: Person is healthy.\n",
        "\n",
        "H₁: Person is sick.\n",
        "Not rejecting H₀ wrongly → Sick person is labeled healthy."
      ],
      "metadata": {
        "id": "XEDglG-sQ7Ml"
      }
    },
    {
      "cell_type": "markdown",
      "source": [
        "**Question 5: What is the difference between a Z-test and a T-test? Explain when to use each.**\n",
        "\n",
        "\n",
        "**Answer**\n",
        "\n",
        "\n",
        "**Z-test**\n",
        "\n",
        "Used when the sample size is large (n > 30).\n",
        "\n",
        "Population variance (σ²) or standard deviation (σ) is known.\n",
        "\n",
        "Assumes data follows a normal distribution.\n",
        "\n",
        "Example:\n",
        "Checking if the average height of 1000 students = 165 cm, when the population standard deviation is known.\n",
        "\n",
        "\n",
        "\n",
        "**T-test**\n",
        "\n",
        "Used when the sample size is small (n ≤ 30).\n",
        "\n",
        "Population variance (σ²) is unknown → we use the sample standard deviation (s) instead.\n",
        "\n",
        "Data should be approximately normally distributed.\n",
        "\n",
        "Example:\n",
        "Checking if the average marks of a class of 25 students = 70, when population variance is unknown.\n",
        "\n",
        "**Key Difference**\n",
        "\n",
        "Z-test: Big sample, σ known.\n",
        "\n",
        "T-test: Small sample, σ unknown."
      ],
      "metadata": {
        "id": "grrvC9P2RZoS"
      }
    },
    {
      "cell_type": "markdown",
      "source": [
        "**Question 6: Write a Python program to generate a binomial distribution with n=10 and p=0.5, then plot its histogram.**"
      ],
      "metadata": {
        "id": "nUfyLl-CR3pS"
      }
    },
    {
      "cell_type": "code",
      "source": [
        "import numpy as np\n",
        "import matplotlib.pyplot as plt\n",
        "\n",
        "# Parameters\n",
        "n = 10      # number of trials\n",
        "p = 0.5     # probability of success\n",
        "size = 1000 # number of samples\n",
        "\n",
        "# Generate binomial distribution\n",
        "data = np.random.binomial(n, p, size)\n",
        "\n",
        "# Plot histogram\n",
        "plt.hist(data, bins=range(n+2), edgecolor='black', align='left')\n",
        "plt.title(\"Binomial Distribution (n=10, p=0.5)\")\n",
        "plt.xlabel(\"Number of successes\")\n",
        "plt.ylabel(\"Frequency\")\n",
        "plt.show()\n"
      ],
      "metadata": {
        "colab": {
          "base_uri": "https://localhost:8080/",
          "height": 472
        },
        "id": "a6IGEXfSSCxg",
        "outputId": "672e5e31-e467-4dd8-fbf5-ede7118d64cb"
      },
      "execution_count": 1,
      "outputs": [
        {
          "output_type": "display_data",
          "data": {
            "text/plain": [
              "<Figure size 640x480 with 1 Axes>"
            ],
            "image/png": "[encoded data removed]"
          },
          "metadata": {}
        }
      ]
    },
    {
      "cell_type": "markdown",
      "source": [
        "**Question 7: Implement hypothesis testing using Z-statistics for a sample dataset in Python. Show the Python code and interpret the results.**\n",
        "\n",
        "\n",
        "**sample_data = [49.1, 50.2, 51.0, 48.7, 50.5, 49.8, 50.3, 50.7, 50.2, 49.6,50.1, 49.9, 50.8, 50.4, 48.9, 50.6, 50.0, 49.7, 50.2, 49.5, 50.1, 50.3, 50.4, 50.5, 50.0, 50.7, 49.3, 49.8, 50.2, 50.9, 50.3, 50.4, 50.0, 49.7, 50.5, 49.9]**\n",
        "\n",
        "\n",
        "\n",
        "**Answer**\n",
        "\n",
        "   Interpretation of Results (if you run it)\n",
        "\n",
        "The code will calculate:\n",
        "\n",
        "Sample mean (should be close to 50).\n",
        "\n",
        "Z-statistic (how many standard errors away from 50).\n",
        "\n",
        "p-value (probability of getting this result if H₀ is true).\n",
        "\n",
        "If p-value < 0.05 → reject H₀ (mean ≠ 50).\n",
        "\n",
        "If p-value ≥ 0.05 → fail to reject H₀ (mean is likely 50)."
      ],
      "metadata": {
        "id": "AfBQpyUBSYcu"
      }
    },
    {
      "cell_type": "code",
      "source": [
        "import numpy as np\n",
        "from scipy.stats import norm\n",
        "\n",
        "# Sample data\n",
        "sample_data = [49.1, 50.2, 51.0, 48.7, 50.5, 49.8, 50.3, 50.7, 50.2, 49.6,\n",
        "               50.1, 49.9, 50.8, 50.4, 48.9, 50.6, 50.0, 49.7, 50.2, 49.5,\n",
        "               50.1, 50.3, 50.4, 50.5, 50.0, 50.7, 49.3, 49.8, 50.2, 50.9,\n",
        "               50.3, 50.4, 50.0, 49.7, 50.5, 49.9]\n",
        "\n",
        "# Hypothesized population mean\n",
        "mu = 50\n",
        "\n",
        "# Calculate sample statistics\n",
        "sample_mean = np.mean(sample_data)\n",
        "sample_std = np.std(sample_data, ddof=1)  # sample standard deviation\n",
        "n = len(sample_data)\n",
        "\n",
        "# Z-test statistic\n",
        "z = (sample_mean - mu) / (sample_std / np.sqrt(n))\n",
        "\n",
        "# Two-tailed test: calculate p-value\n",
        "p_value = 2 * (1 - norm.cdf(abs(z)))\n",
        "\n",
        "print(\"Sample Mean:\", sample_mean)\n",
        "print(\"Z-statistic:\", z)\n",
        "print(\"p-value:\", p_value)\n",
        "\n",
        "# Decision\n",
        "alpha = 0.05\n",
        "if p_value < alpha:\n",
        "    print(\"Reject H₀: Evidence suggests the mean is not 50.\")\n",
        "else:\n",
        "    print(\"Fail to Reject H₀: Not enough evidence against mean = 50.\")\n"
      ],
      "metadata": {
        "colab": {
          "base_uri": "https://localhost:8080/"
        },
        "id": "fI5FlrpVTCyN",
        "outputId": "72b414ae-37e4-4a9d-f815-318aa6496662"
      },
      "execution_count": 2,
      "outputs": [
        {
          "output_type": "stream",
          "name": "stdout",
          "text": [
            "Sample Mean: 50.08888888888889\n",
            "Z-statistic: 0.9940271559503017\n",
            "p-value: 0.3202096468890012\n",
            "Fail to Reject H₀: Not enough evidence against mean = 50.\n"
          ]
        }
      ]
    },
    {
      "cell_type": "markdown",
      "source": [
        "**Question 8: Write a Python script to simulate data from a normal distribution and calculate the 95% confidence interval for its mean. Plot the data using Matplotlib.**"
      ],
      "metadata": {
        "id": "aH0ZcKH3TLNQ"
      }
    },
    {
      "cell_type": "code",
      "source": [
        "import numpy as np\n",
        "import matplotlib.pyplot as plt\n",
        "from scipy import stats\n",
        "\n",
        "# Generate normal data (mean=50, std=5, sample size=100)\n",
        "data = np.random.normal(50, 5, 100)\n",
        "\n",
        "# Calculate mean\n",
        "mean = np.mean(data)\n",
        "\n",
        "# Calculate 95% confidence interval\n",
        "ci = stats.t.interval(0.95, len(data)-1, loc=mean, scale=stats.sem(data))\n",
        "\n",
        "print(\"Sample Mean:\", mean)\n",
        "print(\"95% Confidence Interval:\", ci)\n",
        "\n",
        "# Plot histogram\n",
        "plt.hist(data, bins=10, edgecolor='black')\n",
        "plt.axvline(mean, color='red', linestyle='dashed', label=f\"Mean = {mean:.2f}\")\n",
        "plt.axvline(ci[0], color='green', linestyle='dashed', label=f\"Lower CI = {ci[0]:.2f}\")\n",
        "plt.axvline(ci[1], color='green', linestyle='dashed', label=f\"Upper CI = {ci[1]:.2f}\")\n",
        "plt.legend()\n",
        "plt.show()\n"
      ],
      "metadata": {
        "colab": {
          "base_uri": "https://localhost:8080/",
          "height": 468
        },
        "id": "pucylP1GTZFt",
        "outputId": "03fbfa00-8dca-41f0-921c-c51333e3c937"
      },
      "execution_count": 4,
      "outputs": [
        {
          "output_type": "stream",
          "name": "stdout",
          "text": [
            "Sample Mean: 50.111522935249624\n",
            "95% Confidence Interval: (np.float64(49.16537987083549), np.float64(51.05766599966376))\n"
          ]
        },
        {
          "output_type": "display_data",
          "data": {
            "text/plain": [
              "<Figure size 640x480 with 1 Axes>"
            ],
            "image/png": "[encoded data removed]"
          },
          "metadata": {}
        }
      ]
    },
    {
      "cell_type": "markdown",
      "source": [
        "**Question 9: Write a Python function to calculate the Z-scores from a dataset and visualize the standardized data using a histogram. Explain what the Z-scores represent in terms of standard deviations from the mean.**\n",
        "\n",
        "\n",
        "**Answer**\n",
        "\n",
        "\n",
        "A Z-score tells us how many standard deviations a data point is away from the mean.\n",
        "\n",
        "Z = 0 → the data point = mean\n",
        "\n",
        "Z = +1 → 1 standard deviation above the mean\n",
        "\n",
        "Z = -2 → 2 standard deviations below the mean\n",
        "\n",
        "This is useful to standardize data so we can compare values on the same scale."
      ],
      "metadata": {
        "id": "l4Z383KTTxvx"
      }
    },
    {
      "cell_type": "code",
      "source": [
        "import numpy as np\n",
        "import matplotlib.pyplot as plt\n",
        "\n",
        "# Function to calculate Z-scores\n",
        "def calculate_z_scores(data):\n",
        "    mean = np.mean(data)\n",
        "    std = np.std(data)\n",
        "    z_scores = (data - mean) / std\n",
        "    return z_scores\n",
        "\n",
        "# Example dataset\n",
        "data = np.array([50, 52, 47, 49, 51, 53, 48, 50, 52, 49])\n",
        "\n",
        "# Calculate Z-scores\n",
        "z_scores = calculate_z_scores(data)\n",
        "\n",
        "print(\"Original Data:\", data)\n",
        "print(\"Z-scores:\", z_scores)\n",
        "\n",
        "# Plot histogram of Z-scores\n",
        "plt.hist(z_scores, bins=5, edgecolor='black')\n",
        "plt.title(\"Histogram of Z-scores\")\n",
        "plt.xlabel(\"Z-score\")\n",
        "plt.ylabel(\"Frequency\")\n",
        "plt.axvline(0, color='red', linestyle='dashed', label=\"Mean (Z=0)\")\n",
        "plt.legend()\n",
        "plt.show()\n"
      ],
      "metadata": {
        "colab": {
          "base_uri": "https://localhost:8080/",
          "height": 526
        },
        "id": "no0zxBbXUPa6",
        "outputId": "92fc83ab-5a6d-4414-c474-b7156dc65f9a"
      },
      "execution_count": 5,
      "outputs": [
        {
          "output_type": "stream",
          "name": "stdout",
          "text": [
            "Original Data: [50 52 47 49 51 53 48 50 52 49]\n",
            "Z-scores: [-0.05513178  1.04750391 -1.70908532 -0.60644963  0.49618606  1.59882175\n",
            " -1.15776748 -0.05513178  1.04750391 -0.60644963]\n"
          ]
        },
        {
          "output_type": "display_data",
          "data": {
            "text/plain": [
              "<Figure size 640x480 with 1 Axes>"
            ],
            "image/png": "[encoded data removed]"
          },
          "metadata": {}
        }
      ]
    }
  ]
}